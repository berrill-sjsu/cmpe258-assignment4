{
  "nbformat": 4,
  "nbformat_minor": 0,
  "metadata": {
    "colab": {
      "name": "Assignment4.ipynb",
      "provenance": [],
      "collapsed_sections": []
    },
    "kernelspec": {
      "name": "python3",
      "display_name": "Python 3"
    },
    "language_info": {
      "name": "python"
    }
  },
  "cells": [
    {
      "cell_type": "markdown",
      "source": [
        "# Assignment 4 - Timothy Berrill"
      ],
      "metadata": {
        "id": "jHVV4tgllwG9"
      }
    },
    {
      "cell_type": "code",
      "execution_count": 34,
      "metadata": {
        "id": "tRYvJ1tCldUB"
      },
      "outputs": [],
      "source": [
        "# import open AI gym\n",
        "import gym\n",
        "\n",
        "# import numpy\n",
        "import numpy as np\n",
        "\n",
        "# import plotting tool\n",
        "import matplotlib.pyplot as plt"
      ]
    },
    {
      "cell_type": "code",
      "source": [
        "# make a new environment for the car - mountain problem and reset it so its ready to use\n",
        "my_environemnt = gym.make('MountainCar-v0')"
      ],
      "metadata": {
        "id": "wnFyBMqZlqEt"
      },
      "execution_count": 35,
      "outputs": []
    },
    {
      "cell_type": "code",
      "source": [
        "def show_env_properties(my_env):\n",
        "  \"\"\" helper function to print out environment details \"\"\"\n",
        "  print(f'State space: {my_env.observation_space}')\n",
        "  print(f'Action sapace: {my_env.action_space}')"
      ],
      "metadata": {
        "id": "jgKyy4JPmBJs"
      },
      "execution_count": 36,
      "outputs": []
    },
    {
      "cell_type": "code",
      "source": [
        "def _helper_get_num_states(env):\n",
        "  num_states = env.observation_space.high - env.observation_space.low\n",
        "  num_states *= np.array([10, 100])\n",
        "  num_states = np.round(num_states, 0).astype(int) + 1\n",
        "  return num_states"
      ],
      "metadata": {
        "id": "BXpDqlWgmlr-"
      },
      "execution_count": 37,
      "outputs": []
    },
    {
      "cell_type": "code",
      "source": [
        "def run_q_learning(env, learning, discount, epsilon, min_eps, episodes):\n",
        "  # tracking variables used in function\n",
        "  rewards: list = []\n",
        "  avg_rewards: list = []\n",
        "\n",
        "  # get the number of states in the environment \n",
        "  num_states = _helper_get_num_states(env)\n",
        "\n",
        "  # initialize q table to use in learning\n",
        "  q_table = np.random.uniform(low=-1, high=1, size=(num_states[0], num_states[1], env.action_space.n))\n",
        "\n",
        "  # calculate reduction amount which is used to reduce epsilon\n",
        "  reduction = (epsilon - min_eps) / episodes\n",
        "\n",
        "  # actual loop for q learning\n",
        "  for episode in range(episodes):\n",
        "\n",
        "    # episode initialization variables\n",
        "    done_flag: bool = False\n",
        "    total_reward: int = 0\n",
        "    reward: int = 0\n",
        "\n",
        "    # environment initialization\n",
        "    state = env.reset()\n",
        "    state_adj = (state - env.observation_space.low) * np.array([10, 100])\n",
        "    state_adj = np.round(state_adj, 0).astype(int)\n",
        "\n",
        "    # run the episode\n",
        "    while not done_flag:\n",
        "\n",
        "      # render the environment\n",
        "      # if episode >= (episodes - 20): env.render()\n",
        "\n",
        "      # decide on the agent's next action\n",
        "      if np.random.random() < 1 - epsilon:\n",
        "        # decide the action based on the q table\n",
        "        action = np.argmax(q_table[state_adj[0], state_adj[1]])\n",
        "      else:\n",
        "        # decide the action randomly \n",
        "        action = np.random.randint(0, env.action_space.n)\n",
        "\n",
        "      # run a step in the environment and calculate reward info\n",
        "      n_state, reward, done_flag, info = env.step(action)\n",
        "\n",
        "      # perform state discritization on the new state\n",
        "      n_state_adj = (n_state - env.observation_space.low) * np.array([10, 100])\n",
        "      n_state_adj = np.round(n_state_adj, 0).astype(int)\n",
        "\n",
        "      # terminal states\n",
        "      if done_flag and n_state[0] >= 0.5:\n",
        "        q_table[state_adj[0], state_adj[1], action] = reward\n",
        "\n",
        "      # adjust q value for current state\n",
        "      else:\n",
        "        delta = np.max(q_table[n_state_adj[0], n_state_adj[1]])\n",
        "        delta = delta - q_table[state_adj[0], state_adj[1], action]\n",
        "        delta = learning * (reward + discount * delta)\n",
        "        q_table[state_adj[0], state_adj[1], action] += delta\n",
        "\n",
        "      # update tracking variables\n",
        "      total_reward += reward\n",
        "      state_adj = n_state_adj\n",
        "\n",
        "    # decay the epsilon value\n",
        "    if epsilon > min_eps:\n",
        "      epsilon -= reduction\n",
        "\n",
        "    # track rewards\n",
        "    rewards.append(total_reward)\n",
        "\n",
        "    if (episode) % 100 == 0:\n",
        "      \n",
        "      # print out useful info\n",
        "      print(f'Episode {episode} average reward: {np.mean(rewards)}')\n",
        "      \n",
        "      # store some metrics\n",
        "      avg_rewards.append(np.mean(rewards))\n",
        "      rewards = []\n",
        "\n",
        "  env.close()\n",
        "  return avg_rewards"
      ],
      "metadata": {
        "id": "rhrtvZ52mpca"
      },
      "execution_count": 38,
      "outputs": []
    },
    {
      "cell_type": "code",
      "source": [
        "# run q learning function defined above\n",
        "rewards = run_q_learning(\n",
        "    env = my_environemnt,\n",
        "    learning = 0.2,\n",
        "    discount = 0.9,\n",
        "    epsilon = 0.8,\n",
        "    min_eps = 0,\n",
        "    episodes = 5000\n",
        ")"
      ],
      "metadata": {
        "colab": {
          "base_uri": "https://localhost:8080/"
        },
        "id": "lZcfmhosGhJI",
        "outputId": "9475f5be-7c0f-451c-ebca-2ad5fe39bade"
      },
      "execution_count": 39,
      "outputs": [
        {
          "output_type": "stream",
          "name": "stdout",
          "text": [
            "Episode 0 average reward: -200.0\n",
            "Episode 100 average reward: -200.0\n",
            "Episode 200 average reward: -200.0\n",
            "Episode 300 average reward: -200.0\n",
            "Episode 400 average reward: -200.0\n",
            "Episode 500 average reward: -200.0\n",
            "Episode 600 average reward: -200.0\n",
            "Episode 700 average reward: -200.0\n",
            "Episode 800 average reward: -200.0\n",
            "Episode 900 average reward: -200.0\n",
            "Episode 1000 average reward: -200.0\n",
            "Episode 1100 average reward: -200.0\n",
            "Episode 1200 average reward: -200.0\n",
            "Episode 1300 average reward: -200.0\n",
            "Episode 1400 average reward: -200.0\n",
            "Episode 1500 average reward: -200.0\n",
            "Episode 1600 average reward: -200.0\n",
            "Episode 1700 average reward: -200.0\n",
            "Episode 1800 average reward: -200.0\n",
            "Episode 1900 average reward: -200.0\n",
            "Episode 2000 average reward: -200.0\n",
            "Episode 2100 average reward: -200.0\n",
            "Episode 2200 average reward: -200.0\n",
            "Episode 2300 average reward: -200.0\n",
            "Episode 2400 average reward: -200.0\n",
            "Episode 2500 average reward: -199.91\n",
            "Episode 2600 average reward: -199.64\n",
            "Episode 2700 average reward: -199.67\n",
            "Episode 2800 average reward: -199.66\n",
            "Episode 2900 average reward: -200.0\n",
            "Episode 3000 average reward: -198.98\n",
            "Episode 3100 average reward: -199.78\n",
            "Episode 3200 average reward: -198.82\n",
            "Episode 3300 average reward: -199.2\n",
            "Episode 3400 average reward: -198.62\n",
            "Episode 3500 average reward: -197.51\n",
            "Episode 3600 average reward: -195.67\n",
            "Episode 3700 average reward: -193.53\n",
            "Episode 3800 average reward: -194.96\n",
            "Episode 3900 average reward: -198.65\n",
            "Episode 4000 average reward: -199.08\n",
            "Episode 4100 average reward: -193.71\n",
            "Episode 4200 average reward: -191.99\n",
            "Episode 4300 average reward: -185.0\n",
            "Episode 4400 average reward: -183.92\n",
            "Episode 4500 average reward: -186.3\n",
            "Episode 4600 average reward: -190.01\n",
            "Episode 4700 average reward: -175.96\n",
            "Episode 4800 average reward: -170.55\n",
            "Episode 4900 average reward: -169.96\n"
          ]
        }
      ]
    },
    {
      "cell_type": "code",
      "source": [
        "# Plot Rewards\n",
        "# Spoiler: it works!\n",
        "plt.plot(100*(np.arange(len(rewards)) + 1), rewards)\n",
        "plt.xlabel('Episodes')\n",
        "plt.ylabel('Average Reward')\n",
        "plt.title('Average Reward vs Episodes')\n",
        "plt.show()\n",
        "plt.close() "
      ],
      "metadata": {
        "colab": {
          "base_uri": "https://localhost:8080/",
          "height": 295
        },
        "id": "DzZnSKQrKwGB",
        "outputId": "a89cf34a-4342-4cc1-d965-ea1d81caeff0"
      },
      "execution_count": 44,
      "outputs": [
        {
          "output_type": "display_data",
          "data": {
            "image/png": "[encoded data removed]",
            "text/plain": [
              "<Figure size 432x288 with 1 Axes>"
            ]
          },
          "metadata": {
            "needs_background": "light"
          }
        }
      ]
    },
    {
      "cell_type": "code",
      "source": [
        ""
      ],
      "metadata": {
        "id": "uQSmYcZ_OWBI"
      },
      "execution_count": null,
      "outputs": []
    }
  ]
}